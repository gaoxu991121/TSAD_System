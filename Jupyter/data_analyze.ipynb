{
 "cells": [
  {
   "cell_type": "code",
   "execution_count": 2,
   "metadata": {
    "collapsed": true,
    "pycharm": {
     "name": "#%%\n"
    }
   },
   "outputs": [],
   "source": [
    "import pandas as pd\n",
    "import numpy as np\n",
    "import os"
   ]
  },
  {
   "cell_type": "code",
   "execution_count": 3,
   "outputs": [
    {
     "name": "stdout",
     "output_type": "stream",
     "text": [
      "['C-1.npy', 'C-2.npy', 'D-14.npy', 'D-15.npy', 'D-16.npy', 'F-4.npy', 'F-5.npy', 'F-7.npy', 'F-8.npy', 'M-1.npy', 'M-2.npy', 'M-3.npy', 'M-4.npy', 'M-5.npy', 'M-6.npy', 'M-7.npy', 'P-10.npy', 'P-11.npy', 'P-14.npy', 'P-15.npy', 'S-2.npy', 'T-12.npy', 'T-13.npy', 'T-4.npy', 'T-5.npy', 'T-8.npy', 'T-9.npy']\n",
      "total: 27\n",
      "file name: C-1.npy  shape:  (2158, 55)\n",
      "file name: C-2.npy  shape:  (764, 55)\n",
      "file name: D-14.npy  shape:  (3675, 55)\n",
      "file name: D-15.npy  shape:  (2074, 55)\n",
      "file name: D-16.npy  shape:  (1451, 55)\n",
      "file name: F-4.npy  shape:  (2244, 55)\n",
      "file name: F-5.npy  shape:  (2598, 55)\n",
      "file name: F-7.npy  shape:  (2511, 55)\n",
      "file name: F-8.npy  shape:  (3342, 55)\n",
      "file name: M-1.npy  shape:  (2209, 55)\n",
      "file name: M-2.npy  shape:  (2208, 55)\n",
      "file name: M-3.npy  shape:  (2037, 55)\n",
      "file name: M-4.npy  shape:  (2076, 55)\n",
      "file name: M-5.npy  shape:  (2032, 55)\n",
      "file name: M-6.npy  shape:  (1565, 55)\n",
      "file name: M-7.npy  shape:  (1587, 55)\n",
      "file name: P-10.npy  shape:  (4308, 55)\n",
      "file name: P-11.npy  shape:  (3969, 55)\n",
      "file name: P-14.npy  shape:  (2880, 55)\n",
      "file name: P-15.npy  shape:  (3682, 55)\n",
      "file name: S-2.npy  shape:  (926, 55)\n",
      "file name: T-12.npy  shape:  (1145, 55)\n",
      "file name: T-13.npy  shape:  (1145, 55)\n",
      "file name: T-4.npy  shape:  (2272, 55)\n",
      "file name: T-5.npy  shape:  (2272, 55)\n",
      "file name: T-8.npy  shape:  (748, 55)\n",
      "file name: T-9.npy  shape:  (439, 55)\n"
     ]
    }
   ],
   "source": [
    "path = r\"E:\\Datasets\\MSL\\train\"\n",
    "list_file = os.listdir(path)\n",
    "print(list_file)\n",
    "print(\"total:\",len(list_file))\n",
    "for file in list_file:\n",
    "    file_path = path + \"/\" + file\n",
    "    data = np.load(file_path)\n",
    "    print(\"file name:\",file,\" shape: \",data.shape)"
   ],
   "metadata": {
    "collapsed": false,
    "pycharm": {
     "name": "#%%\n"
    }
   }
  },
  {
   "cell_type": "code",
   "execution_count": 5,
   "outputs": [
    {
     "name": "stdout",
     "output_type": "stream",
     "text": [
      "['A-1.npy', 'A-2.npy', 'A-3.npy', 'A-4.npy', 'A-5.npy', 'A-6.npy', 'A-7.npy', 'A-8.npy', 'A-9.npy', 'B-1.npy', 'D-1.npy', 'D-11.npy', 'D-12.npy', 'D-13.npy', 'D-2.npy', 'D-3.npy', 'D-4.npy', 'D-5.npy', 'D-6.npy', 'D-7.npy', 'D-8.npy', 'D-9.npy', 'E-1.npy', 'E-10.npy', 'E-11.npy', 'E-12.npy', 'E-13.npy', 'E-2.npy', 'E-3.npy', 'E-4.npy', 'E-5.npy', 'E-6.npy', 'E-7.npy', 'E-8.npy', 'E-9.npy', 'F-1.npy', 'F-2.npy', 'F-3.npy', 'G-1.npy', 'G-2.npy', 'G-3.npy', 'G-4.npy', 'G-6.npy', 'G-7.npy', 'P-1.npy', 'P-2.npy', 'P-3.npy', 'P-4.npy', 'P-7.npy', 'R-1.npy', 'S-1.npy', 'T-1.npy', 'T-2.npy', 'T-3.npy']\n",
      "total: 54\n",
      "file name: A-1.npy  shape:  (2880, 25)\n",
      "file name: A-2.npy  shape:  (2648, 25)\n",
      "file name: A-3.npy  shape:  (2736, 25)\n",
      "file name: A-4.npy  shape:  (2690, 25)\n",
      "file name: A-5.npy  shape:  (705, 25)\n",
      "file name: A-6.npy  shape:  (682, 25)\n",
      "file name: A-7.npy  shape:  (2879, 25)\n",
      "file name: A-8.npy  shape:  (762, 25)\n",
      "file name: A-9.npy  shape:  (762, 25)\n",
      "file name: B-1.npy  shape:  (2435, 25)\n",
      "file name: D-1.npy  shape:  (2849, 25)\n",
      "file name: D-11.npy  shape:  (2611, 25)\n",
      "file name: D-12.npy  shape:  (312, 25)\n",
      "file name: D-13.npy  shape:  (1490, 25)\n",
      "file name: D-2.npy  shape:  (2880, 25)\n",
      "file name: D-3.npy  shape:  (2880, 25)\n",
      "file name: D-4.npy  shape:  (2833, 25)\n",
      "file name: D-5.npy  shape:  (2561, 25)\n",
      "file name: D-6.npy  shape:  (2594, 25)\n",
      "file name: D-7.npy  shape:  (2583, 25)\n",
      "file name: D-8.npy  shape:  (2602, 25)\n",
      "file name: D-9.npy  shape:  (2583, 25)\n",
      "file name: E-1.npy  shape:  (2880, 25)\n",
      "file name: E-10.npy  shape:  (2880, 25)\n",
      "file name: E-11.npy  shape:  (2880, 25)\n",
      "file name: E-12.npy  shape:  (2880, 25)\n",
      "file name: E-13.npy  shape:  (2880, 25)\n",
      "file name: E-2.npy  shape:  (2880, 25)\n",
      "file name: E-3.npy  shape:  (2880, 25)\n",
      "file name: E-4.npy  shape:  (2880, 25)\n",
      "file name: E-5.npy  shape:  (2880, 25)\n",
      "file name: E-6.npy  shape:  (2880, 25)\n",
      "file name: E-7.npy  shape:  (2769, 25)\n",
      "file name: E-8.npy  shape:  (2880, 25)\n",
      "file name: E-9.npy  shape:  (2880, 25)\n",
      "file name: F-1.npy  shape:  (2869, 25)\n",
      "file name: F-2.npy  shape:  (2861, 25)\n",
      "file name: F-3.npy  shape:  (2880, 25)\n",
      "file name: G-1.npy  shape:  (2820, 25)\n",
      "file name: G-2.npy  shape:  (2478, 25)\n",
      "file name: G-3.npy  shape:  (2624, 25)\n",
      "file name: G-4.npy  shape:  (2551, 25)\n",
      "file name: G-6.npy  shape:  (2881, 25)\n",
      "file name: G-7.npy  shape:  (2446, 25)\n",
      "file name: P-1.npy  shape:  (2872, 25)\n",
      "file name: P-2.npy  shape:  (2821, 25)\n",
      "file name: P-3.npy  shape:  (2855, 25)\n",
      "file name: P-4.npy  shape:  (2609, 25)\n",
      "file name: P-7.npy  shape:  (2853, 25)\n",
      "file name: R-1.npy  shape:  (2874, 25)\n",
      "file name: S-1.npy  shape:  (2818, 25)\n",
      "file name: T-1.npy  shape:  (2875, 25)\n",
      "file name: T-2.npy  shape:  (2855, 25)\n",
      "file name: T-3.npy  shape:  (2876, 25)\n"
     ]
    }
   ],
   "source": [
    "path = r\"E:\\Datasets\\SMAP\\train\"\n",
    "list_file = os.listdir(path)\n",
    "print(list_file)\n",
    "print(\"total:\",len(list_file))\n",
    "smap_list = []\n",
    "for file in list_file:\n",
    "    file_path = path + \"/\" + file\n",
    "    data = np.load(file_path)\n",
    "    print(\"file name:\",file,\" shape: \",data.shape)\n",
    "    smap_list.append(file.split(\".\")[0])"
   ],
   "metadata": {
    "collapsed": false,
    "pycharm": {
     "name": "#%%\n"
    }
   }
  },
  {
   "cell_type": "code",
   "execution_count": 47,
   "outputs": [
    {
     "name": "stdout",
     "output_type": "stream",
     "text": [
      "   chan_id spacecraft anomaly_sequences    class  num_values\n",
      "17     P-2       SMAP    [[5350, 6575]]  [point]        8209\n",
      "51     P-2       SMAP    [[5300, 6420]]  [point]        8209\n",
      "55\n"
     ]
    }
   ],
   "source": [
    "path = r\"E:\\Datasets\\SMAP\\labeled_anomalies.csv\"\n",
    "label = pd.read_csv(path)\n",
    "duplicates = label[label.duplicated('chan_id', keep=False)]\n",
    "real_list = label[label[\"spacecraft\"]==\"SMAP\"][\"chan_id\"].values.tolist()\n",
    "print(duplicates)\n",
    "print(len(real_list))"
   ],
   "metadata": {
    "collapsed": false,
    "pycharm": {
     "name": "#%%\n"
    }
   }
  },
  {
   "cell_type": "code",
   "execution_count": 42,
   "outputs": [
    {
     "name": "stdout",
     "output_type": "stream",
     "text": [
      "54\n"
     ]
    }
   ],
   "source": [
    "print(len(smap_list))"
   ],
   "metadata": {
    "collapsed": false,
    "pycharm": {
     "name": "#%%\n"
    }
   }
  },
  {
   "cell_type": "code",
   "execution_count": 44,
   "outputs": [
    {
     "name": "stdout",
     "output_type": "stream",
     "text": [
      "54\n"
     ]
    }
   ],
   "source": [
    "\n",
    "diff_list = list(set(real_list))\n",
    "print(len(diff_list))"
   ],
   "metadata": {
    "collapsed": false,
    "pycharm": {
     "name": "#%%\n"
    }
   }
  },
  {
   "cell_type": "code",
   "execution_count": null,
   "outputs": [],
   "source": [],
   "metadata": {
    "collapsed": false,
    "pycharm": {
     "name": "#%%\n"
    }
   }
  }
 ],
 "metadata": {
  "kernelspec": {
   "display_name": "Python 3",
   "language": "python",
   "name": "python3"
  },
  "language_info": {
   "codemirror_mode": {
    "name": "ipython",
    "version": 2
   },
   "file_extension": ".py",
   "mimetype": "text/x-python",
   "name": "python",
   "nbconvert_exporter": "python",
   "pygments_lexer": "ipython2",
   "version": "2.7.6"
  }
 },
 "nbformat": 4,
 "nbformat_minor": 0
}